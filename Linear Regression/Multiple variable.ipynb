{
 "cells": [
  {
   "cell_type": "markdown",
   "id": "4ace5445",
   "metadata": {},
   "source": [
    "# Multi variable"
   ]
  },
  {
   "cell_type": "markdown",
   "id": "8dad09e4",
   "metadata": {},
   "source": [
    "y = m1x1+m2x2+m3x3+........"
   ]
  },
  {
   "cell_type": "code",
   "execution_count": 24,
   "id": "3c886a44",
   "metadata": {},
   "outputs": [],
   "source": [
    "# Import require libraries\n",
    "\n",
    "import numpy as np\n",
    "import pandas as pd\n",
    "from sklearn.linear_model import LinearRegression"
   ]
  },
  {
   "cell_type": "code",
   "execution_count": 25,
   "id": "1458ffb6",
   "metadata": {},
   "outputs": [
    {
     "data": {
      "text/html": [
       "<div>\n",
       "<style scoped>\n",
       "    .dataframe tbody tr th:only-of-type {\n",
       "        vertical-align: middle;\n",
       "    }\n",
       "\n",
       "    .dataframe tbody tr th {\n",
       "        vertical-align: top;\n",
       "    }\n",
       "\n",
       "    .dataframe thead th {\n",
       "        text-align: right;\n",
       "    }\n",
       "</style>\n",
       "<table border=\"1\" class=\"dataframe\">\n",
       "  <thead>\n",
       "    <tr style=\"text-align: right;\">\n",
       "      <th></th>\n",
       "      <th>Unnamed: 0</th>\n",
       "      <th>videos</th>\n",
       "      <th>days</th>\n",
       "      <th>subscribers</th>\n",
       "      <th>views</th>\n",
       "    </tr>\n",
       "  </thead>\n",
       "  <tbody>\n",
       "    <tr>\n",
       "      <th>0</th>\n",
       "      <td>Channel 1</td>\n",
       "      <td>256</td>\n",
       "      <td>1231</td>\n",
       "      <td>39870</td>\n",
       "      <td>442312</td>\n",
       "    </tr>\n",
       "    <tr>\n",
       "      <th>1</th>\n",
       "      <td>Channel 2</td>\n",
       "      <td>52</td>\n",
       "      <td>112</td>\n",
       "      <td>1234</td>\n",
       "      <td>14758</td>\n",
       "    </tr>\n",
       "    <tr>\n",
       "      <th>2</th>\n",
       "      <td>Channel 3</td>\n",
       "      <td>312</td>\n",
       "      <td>1478</td>\n",
       "      <td>54967</td>\n",
       "      <td>587123</td>\n",
       "    </tr>\n",
       "    <tr>\n",
       "      <th>3</th>\n",
       "      <td>Channel 4</td>\n",
       "      <td>507</td>\n",
       "      <td>2508</td>\n",
       "      <td>149876</td>\n",
       "      <td>1489765</td>\n",
       "    </tr>\n",
       "    <tr>\n",
       "      <th>4</th>\n",
       "      <td>Channel 5</td>\n",
       "      <td>115</td>\n",
       "      <td>467</td>\n",
       "      <td>8150</td>\n",
       "      <td>98567</td>\n",
       "    </tr>\n",
       "  </tbody>\n",
       "</table>\n",
       "</div>"
      ],
      "text/plain": [
       "  Unnamed: 0  videos  days  subscribers    views\n",
       "0  Channel 1     256  1231        39870   442312\n",
       "1  Channel 2      52   112         1234    14758\n",
       "2  Channel 3     312  1478        54967   587123\n",
       "3  Channel 4     507  2508       149876  1489765\n",
       "4  Channel 5     115   467         8150    98567"
      ]
     },
     "execution_count": 25,
     "metadata": {},
     "output_type": "execute_result"
    }
   ],
   "source": [
    "# Import and store the dataset\n",
    "# Note that This dataset is not a real dataset\n",
    "# Anyway this code model desinged for multi feature dataset in basics\n",
    "\n",
    "data = pd.read_csv(\"../Datasets/youtubeM.csv\")\n",
    "data.head()\n",
    "\n",
    "# You can use below commands\n",
    "\n",
    "# data\n",
    "# data.tail()\n",
    "# data.info()\n",
    "# data.describe()\n",
    "# data.isnull().sum()\n",
    "# data.dtypes\n",
    "# selected_data = data[['Column1', 'Column2']]\n",
    "# filtered_data = data[data['Column'] > value]\n",
    "# data['NewColumn'] = data['ExistingColumn'] * 10\n",
    "# data.rename(columns={'OldName': 'NewName'}, inplace=True)\n",
    "# data.drop('ColumnToDrop', axis=1, inplace=True)\n",
    "# grouped_data = data.groupby('Column').mean()\n",
    "# sorted_data = data.sort_values(by='Column', ascending=False)\n",
    "# unique_values = data['Column'].unique()\n",
    "# counts = data['Column'].value_counts()"
   ]
  },
  {
   "cell_type": "code",
   "execution_count": 26,
   "id": "481d5b7f",
   "metadata": {},
   "outputs": [
    {
     "data": {
      "text/html": [
       "<style>#sk-container-id-2 {color: black;}#sk-container-id-2 pre{padding: 0;}#sk-container-id-2 div.sk-toggleable {background-color: white;}#sk-container-id-2 label.sk-toggleable__label {cursor: pointer;display: block;width: 100%;margin-bottom: 0;padding: 0.3em;box-sizing: border-box;text-align: center;}#sk-container-id-2 label.sk-toggleable__label-arrow:before {content: \"▸\";float: left;margin-right: 0.25em;color: #696969;}#sk-container-id-2 label.sk-toggleable__label-arrow:hover:before {color: black;}#sk-container-id-2 div.sk-estimator:hover label.sk-toggleable__label-arrow:before {color: black;}#sk-container-id-2 div.sk-toggleable__content {max-height: 0;max-width: 0;overflow: hidden;text-align: left;background-color: #f0f8ff;}#sk-container-id-2 div.sk-toggleable__content pre {margin: 0.2em;color: black;border-radius: 0.25em;background-color: #f0f8ff;}#sk-container-id-2 input.sk-toggleable__control:checked~div.sk-toggleable__content {max-height: 200px;max-width: 100%;overflow: auto;}#sk-container-id-2 input.sk-toggleable__control:checked~label.sk-toggleable__label-arrow:before {content: \"▾\";}#sk-container-id-2 div.sk-estimator input.sk-toggleable__control:checked~label.sk-toggleable__label {background-color: #d4ebff;}#sk-container-id-2 div.sk-label input.sk-toggleable__control:checked~label.sk-toggleable__label {background-color: #d4ebff;}#sk-container-id-2 input.sk-hidden--visually {border: 0;clip: rect(1px 1px 1px 1px);clip: rect(1px, 1px, 1px, 1px);height: 1px;margin: -1px;overflow: hidden;padding: 0;position: absolute;width: 1px;}#sk-container-id-2 div.sk-estimator {font-family: monospace;background-color: #f0f8ff;border: 1px dotted black;border-radius: 0.25em;box-sizing: border-box;margin-bottom: 0.5em;}#sk-container-id-2 div.sk-estimator:hover {background-color: #d4ebff;}#sk-container-id-2 div.sk-parallel-item::after {content: \"\";width: 100%;border-bottom: 1px solid gray;flex-grow: 1;}#sk-container-id-2 div.sk-label:hover label.sk-toggleable__label {background-color: #d4ebff;}#sk-container-id-2 div.sk-serial::before {content: \"\";position: absolute;border-left: 1px solid gray;box-sizing: border-box;top: 0;bottom: 0;left: 50%;z-index: 0;}#sk-container-id-2 div.sk-serial {display: flex;flex-direction: column;align-items: center;background-color: white;padding-right: 0.2em;padding-left: 0.2em;position: relative;}#sk-container-id-2 div.sk-item {position: relative;z-index: 1;}#sk-container-id-2 div.sk-parallel {display: flex;align-items: stretch;justify-content: center;background-color: white;position: relative;}#sk-container-id-2 div.sk-item::before, #sk-container-id-2 div.sk-parallel-item::before {content: \"\";position: absolute;border-left: 1px solid gray;box-sizing: border-box;top: 0;bottom: 0;left: 50%;z-index: -1;}#sk-container-id-2 div.sk-parallel-item {display: flex;flex-direction: column;z-index: 1;position: relative;background-color: white;}#sk-container-id-2 div.sk-parallel-item:first-child::after {align-self: flex-end;width: 50%;}#sk-container-id-2 div.sk-parallel-item:last-child::after {align-self: flex-start;width: 50%;}#sk-container-id-2 div.sk-parallel-item:only-child::after {width: 0;}#sk-container-id-2 div.sk-dashed-wrapped {border: 1px dashed gray;margin: 0 0.4em 0.5em 0.4em;box-sizing: border-box;padding-bottom: 0.4em;background-color: white;}#sk-container-id-2 div.sk-label label {font-family: monospace;font-weight: bold;display: inline-block;line-height: 1.2em;}#sk-container-id-2 div.sk-label-container {text-align: center;}#sk-container-id-2 div.sk-container {/* jupyter's `normalize.less` sets `[hidden] { display: none; }` but bootstrap.min.css set `[hidden] { display: none !important; }` so we also need the `!important` here to be able to override the default hidden behavior on the sphinx rendered scikit-learn.org. See: https://github.com/scikit-learn/scikit-learn/issues/21755 */display: inline-block !important;position: relative;}#sk-container-id-2 div.sk-text-repr-fallback {display: none;}</style><div id=\"sk-container-id-2\" class=\"sk-top-container\"><div class=\"sk-text-repr-fallback\"><pre>LinearRegression()</pre><b>In a Jupyter environment, please rerun this cell to show the HTML representation or trust the notebook. <br />On GitHub, the HTML representation is unable to render, please try loading this page with nbviewer.org.</b></div><div class=\"sk-container\" hidden><div class=\"sk-item\"><div class=\"sk-estimator sk-toggleable\"><input class=\"sk-toggleable__control sk-hidden--visually\" id=\"sk-estimator-id-2\" type=\"checkbox\" checked><label for=\"sk-estimator-id-2\" class=\"sk-toggleable__label sk-toggleable__label-arrow\">LinearRegression</label><div class=\"sk-toggleable__content\"><pre>LinearRegression()</pre></div></div></div></div></div>"
      ],
      "text/plain": [
       "LinearRegression()"
      ]
     },
     "execution_count": 26,
     "metadata": {},
     "output_type": "execute_result"
    }
   ],
   "source": [
    "# Model Creation and Train\n",
    "\n",
    "model = LinearRegression()\n",
    "model.fit(data[['videos','days','subscribers']],data.views)"
   ]
  },
  {
   "cell_type": "code",
   "execution_count": 29,
   "id": "4e87cc82",
   "metadata": {},
   "outputs": [
    {
     "name": "stderr",
     "output_type": "stream",
     "text": [
      "C:\\Users\\Nipun Weerasinghe\\anaconda3\\Lib\\site-packages\\sklearn\\base.py:464: UserWarning: X does not have valid feature names, but LinearRegression was fitted with feature names\n",
      "  warnings.warn(\n"
     ]
    }
   ],
   "source": [
    "# Model testing\n",
    "\n",
    "test_videos = 150\n",
    "test_days = 450\n",
    "test_subsribers = 6900\n",
    "\n",
    "predict_y = model.predict([[test_videos,test_days,test_subsribers]])\n",
    "\n",
    "# Ans = 94494.37165026 for 150,450,9600\n",
    "# int(predict_y) = 94494"
   ]
  },
  {
   "cell_type": "code",
   "execution_count": 30,
   "id": "e253ee34",
   "metadata": {},
   "outputs": [],
   "source": [
    "# Find m1, m2, m3\n",
    "\n",
    "m1 = model.coef_[0]\n",
    "m2 = model.coef_[1]\n",
    "m3 = model.coef_[2]"
   ]
  },
  {
   "cell_type": "code",
   "execution_count": 31,
   "id": "9f9fd43a",
   "metadata": {},
   "outputs": [],
   "source": [
    "# Find c\n",
    "\n",
    "c = model.intercept_"
   ]
  },
  {
   "cell_type": "code",
   "execution_count": 35,
   "id": "4dde5a25",
   "metadata": {},
   "outputs": [],
   "source": [
    "# Test the model using m and c\n",
    "\n",
    "x1 = 150\n",
    "x2 = 450\n",
    "x3 = 6900\n",
    "\n",
    "predict_y_value = m1*x1+m2*x2+m3*x3+c\n",
    "\n",
    "# Ans = 94494.37165026 for 150,450,9600\n",
    "# int(predict_y) = 94494"
   ]
  },
  {
   "cell_type": "code",
   "execution_count": 33,
   "id": "4e2315f0",
   "metadata": {},
   "outputs": [
    {
     "data": {
      "text/plain": [
       "94494.3716502569"
      ]
     },
     "execution_count": 33,
     "metadata": {},
     "output_type": "execute_result"
    }
   ],
   "source": [
    "predict_y_value"
   ]
  },
  {
   "cell_type": "code",
   "execution_count": 34,
   "id": "2ceaba73",
   "metadata": {},
   "outputs": [
    {
     "data": {
      "text/plain": [
       "94494"
      ]
     },
     "execution_count": 34,
     "metadata": {},
     "output_type": "execute_result"
    }
   ],
   "source": [
    "int(predict_y_value)"
   ]
  }
 ],
 "metadata": {
  "kernelspec": {
   "display_name": "Python 3 (ipykernel)",
   "language": "python",
   "name": "python3"
  },
  "language_info": {
   "codemirror_mode": {
    "name": "ipython",
    "version": 3
   },
   "file_extension": ".py",
   "mimetype": "text/x-python",
   "name": "python",
   "nbconvert_exporter": "python",
   "pygments_lexer": "ipython3",
   "version": "3.11.5"
  }
 },
 "nbformat": 4,
 "nbformat_minor": 5
}
